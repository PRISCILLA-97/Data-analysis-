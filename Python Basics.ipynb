{
 "cells": [
  {
   "cell_type": "code",
   "execution_count": 1,
   "id": "68505bb0",
   "metadata": {},
   "outputs": [
    {
     "name": "stdout",
     "output_type": "stream",
     "text": [
      "john\n"
     ]
    }
   ],
   "source": [
    "#variables \n",
    "print(\"john\")"
   ]
  },
  {
   "cell_type": "code",
   "execution_count": 4,
   "id": "34d8467c",
   "metadata": {},
   "outputs": [
    {
     "data": {
      "text/plain": [
       "str"
      ]
     },
     "execution_count": 4,
     "metadata": {},
     "output_type": "execute_result"
    }
   ],
   "source": [
    "v=\"john\"\n",
    "v\n",
    "type(v)"
   ]
  },
  {
   "cell_type": "code",
   "execution_count": 6,
   "id": "505a7b08",
   "metadata": {},
   "outputs": [
    {
     "data": {
      "text/plain": [
       "60"
      ]
     },
     "execution_count": 6,
     "metadata": {},
     "output_type": "execute_result"
    }
   ],
   "source": [
    "a=60\n",
    "b=a\n",
    "b"
   ]
  },
  {
   "cell_type": "code",
   "execution_count": 8,
   "id": "72e958d5",
   "metadata": {},
   "outputs": [
    {
     "name": "stdout",
     "output_type": "stream",
     "text": [
      "10 20 30\n"
     ]
    }
   ],
   "source": [
    "a,b,c=10,20,30\n",
    "print(a,b,c)"
   ]
  },
  {
   "cell_type": "code",
   "execution_count": 14,
   "id": "e7ec39f4",
   "metadata": {},
   "outputs": [],
   "source": [
    "#Local variable\n",
    "#Local variables are the variables that declared inside the function.\n",
    "\n",
    "def add():\n",
    "    a=2\n",
    "    b=3\n",
    "    c=a+b\n",
    "    print(\"the sum is=\",c)\n"
   ]
  },
  {
   "cell_type": "code",
   "execution_count": 17,
   "id": "d00f6177",
   "metadata": {},
   "outputs": [
    {
     "name": "stdout",
     "output_type": "stream",
     "text": [
      "the sum is= 5\n"
     ]
    }
   ],
   "source": [
    "# caling the function \n",
    "add()"
   ]
  },
  {
   "cell_type": "markdown",
   "id": "21c5e775",
   "metadata": {},
   "source": [
    "# Data types\n"
   ]
  },
  {
   "cell_type": "code",
   "execution_count": 19,
   "id": "c4083202",
   "metadata": {},
   "outputs": [
    {
     "data": {
      "text/plain": [
       "[1, 2, 3, 4, 5, 'hi', 'python', 1.2]"
      ]
     },
     "execution_count": 19,
     "metadata": {},
     "output_type": "execute_result"
    }
   ],
   "source": [
    "#list\n",
    "a=[1,2,3,4,5,\"hi\",\"python\",1.2]\n",
    "a"
   ]
  },
  {
   "cell_type": "code",
   "execution_count": 30,
   "id": "b104dc36",
   "metadata": {},
   "outputs": [
    {
     "name": "stdout",
     "output_type": "stream",
     "text": [
      "[2, 3]\n"
     ]
    }
   ],
   "source": [
    "print(a[1:3])"
   ]
  },
  {
   "cell_type": "code",
   "execution_count": 32,
   "id": "8bf26b9c",
   "metadata": {},
   "outputs": [
    {
     "name": "stdout",
     "output_type": "stream",
     "text": [
      "[2]\n"
     ]
    }
   ],
   "source": [
    "list1  = [1, \"hi\", \"Python\", 2]    \n",
    "print (list1[3:])  "
   ]
  },
  {
   "cell_type": "code",
   "execution_count": 33,
   "id": "7a4d129c",
   "metadata": {},
   "outputs": [
    {
     "name": "stdout",
     "output_type": "stream",
     "text": [
      "[1, 'hi']\n"
     ]
    }
   ],
   "source": [
    "print (list1[0:2])  "
   ]
  },
  {
   "cell_type": "code",
   "execution_count": 39,
   "id": "6f0681ee",
   "metadata": {},
   "outputs": [
    {
     "name": "stdout",
     "output_type": "stream",
     "text": [
      "[1, 'hi', 'Python', 2, 1, 'hi', 'Python', 2, 1, 'hi', 'Python', 2]\n",
      "[1, 'hi', 'Python', 2, 1, 'hi', 'Python', 2]\n"
     ]
    }
   ],
   "source": [
    "print (list1 * 3)\n",
    "print (list1 + list1)  "
   ]
  },
  {
   "cell_type": "code",
   "execution_count": 50,
   "id": "596285a4",
   "metadata": {},
   "outputs": [
    {
     "data": {
      "text/plain": [
       "'abbabb'"
      ]
     },
     "execution_count": 50,
     "metadata": {},
     "output_type": "execute_result"
    }
   ],
   "source": [
    "a=\"abb\"\n",
    "b=a*2\n",
    "b"
   ]
  },
  {
   "cell_type": "code",
   "execution_count": 55,
   "id": "73a4b42b",
   "metadata": {},
   "outputs": [
    {
     "name": "stdout",
     "output_type": "stream",
     "text": [
      "{1: 'mancy', 2: 'shinny'}\n",
      "1st name is mancy\n",
      "2nd name is shinny\n"
     ]
    }
   ],
   "source": [
    "#Dictoniry \n",
    "a={1:\"john\",1:\"mancy\",2:\"shinny\"}\n",
    "print(a)\n",
    "print(\"1st name is \"+a[1])   \n",
    "print(\"2nd name is \"+a[2])"
   ]
  },
  {
   "cell_type": "code",
   "execution_count": 57,
   "id": "3837c08e",
   "metadata": {},
   "outputs": [
    {
     "data": {
      "text/plain": [
       "{1, 2.3, 'r'}"
      ]
     },
     "execution_count": 57,
     "metadata": {},
     "output_type": "execute_result"
    }
   ],
   "source": [
    "#set\n",
    "a={1,\"r\",2.3}\n",
    "a"
   ]
  },
  {
   "cell_type": "code",
   "execution_count": 90,
   "id": "489e60a0",
   "metadata": {},
   "outputs": [
    {
     "ename": "SyntaxError",
     "evalue": "invalid syntax (3662804951.py, line 2)",
     "output_type": "error",
     "traceback": [
      "\u001b[0;36m  Cell \u001b[0;32mIn[90], line 2\u001b[0;36m\u001b[0m\n\u001b[0;31m    + => addition\u001b[0m\n\u001b[0m      ^\u001b[0m\n\u001b[0;31mSyntaxError\u001b[0m\u001b[0;31m:\u001b[0m invalid syntax\n"
     ]
    }
   ],
   "source": [
    "# Operator\n",
    "+ => addition\n",
    "- => sub\n",
    "/ => gives the quotion ex- 20/10=>2\n",
    "% => remainder ex - 20%10 => 0\n",
    "** => exponent\n",
    "// =>quotient floor value \n"
   ]
  },
  {
   "cell_type": "code",
   "execution_count": 92,
   "id": "c755c607",
   "metadata": {},
   "outputs": [],
   "source": [
    "#type conversion\n",
    "#1. Implicit conversion\n",
    "#In certain situations, Python automatically converts one data type to another. \n",
    "\n",
    "#2.explicit conversion \n",
    "#In Explicit Type Conversion, users convert the data type of an object to required data type.\n"
   ]
  },
  {
   "cell_type": "code",
   "execution_count": null,
   "id": "865a4d31",
   "metadata": {},
   "outputs": [],
   "source": []
  },
  {
   "cell_type": "markdown",
   "id": "a5a348eb",
   "metadata": {},
   "source": [
    "# if else\n"
   ]
  },
  {
   "cell_type": "code",
   "execution_count": 59,
   "id": "d1ddea9f",
   "metadata": {},
   "outputs": [
    {
     "name": "stdout",
     "output_type": "stream",
     "text": [
      "Enter a: 1\n",
      "Enter b: 2\n",
      "Enter c: 3\n",
      "From the above three numbers given c is largest\n"
     ]
    }
   ],
   "source": [
    "# Simple Python Program to print the largest of the three numbers.  \n",
    "a = int (input(\"Enter a: \"));    \n",
    "b = int (input(\"Enter b: \"));    \n",
    "c = int (input(\"Enter c: \"));    \n",
    "if a>b and a>c:    \n",
    "\n",
    "    print (\"From the above three numbers given a is largest\");    \n",
    "if b>a and b>c:    \n",
    " \n",
    "    print (\"From the above three numbers given b is largest\");    \n",
    "if c>a and c>b:    \n",
    " \n",
    "    print (\"From the above three numbers given c is largest\");   "
   ]
  },
  {
   "cell_type": "code",
   "execution_count": 60,
   "id": "b15587fb",
   "metadata": {},
   "outputs": [
    {
     "name": "stdout",
     "output_type": "stream",
     "text": [
      "Enter your age: 23\n",
      "You are eligible to vote !!\n"
     ]
    }
   ],
   "source": [
    "# Simple Python Program to check whether a person is eligible to vote or not.  \n",
    "age = int (input(\"Enter your age: \"))    \n",
    "# Here, we are taking an integer num and taking input dynamically  \n",
    "if age>=18:    \n",
    "# Here, we are checking the condition. If the condition is true, we will enter the block  \n",
    "    print(\"You are eligible to vote !!\");    \n",
    "else:    \n",
    "    print(\"Sorry! you have to wait !!\");   "
   ]
  },
  {
   "cell_type": "code",
   "execution_count": 61,
   "id": "5d04d06a",
   "metadata": {},
   "outputs": [],
   "source": [
    "#Example 2: Program to check whether a number is even or not.\n",
    "# try it yourself\n"
   ]
  },
  {
   "cell_type": "code",
   "execution_count": 93,
   "id": "2e735c57",
   "metadata": {},
   "outputs": [
    {
     "name": "stdout",
     "output_type": "stream",
     "text": [
      "Enter the marks? 76\n",
      "You scored grade B + ...\n"
     ]
    }
   ],
   "source": [
    "# Simple Python program to understand elif statement  \n",
    "marks = int(input(\"Enter the marks? \"))    \n",
    "if marks > 85 and marks <= 100:     \n",
    "    print(\"Congrats ! you scored grade A ...\")    \n",
    "elif marks > 60 and marks <= 85:    \n",
    "    print(\"You scored grade B + ...\")    \n",
    "elif marks > 40 and marks <= 60:     \n",
    "    print(\"You scored grade B ...\")    \n",
    "elif (marks > 30 and marks <= 40):    \n",
    "# Here, we are checking the condition. If the condition is true, we will enter the block  \n",
    "   print(\"You scored grade C ...\")    \n",
    "else:    \n",
    "    print(\"Sorry you are fail ?\")  "
   ]
  },
  {
   "cell_type": "code",
   "execution_count": 95,
   "id": "6425d2c2",
   "metadata": {},
   "outputs": [
    {
     "ename": "SyntaxError",
     "evalue": "expected ':' (3524700163.py, line 2)",
     "output_type": "error",
     "traceback": [
      "\u001b[0;36m  Cell \u001b[0;32mIn[95], line 2\u001b[0;36m\u001b[0m\n\u001b[0;31m    if condition\u001b[0m\n\u001b[0m                 ^\u001b[0m\n\u001b[0;31mSyntaxError\u001b[0m\u001b[0;31m:\u001b[0m expected ':'\n"
     ]
    }
   ],
   "source": [
    "#if_elif_else\n",
    "if condition \n",
    "  statement\n",
    "elif condition\n",
    " statemente\n",
    "else \n",
    " statemente\n",
    "\n",
    "#nested_if \n",
    "if condition\n",
    " statement\n",
    "    if cond\n",
    "      statement\n",
    "elif con\n",
    "  statement \n",
    "else\n",
    " statement \n",
    "  "
   ]
  },
  {
   "cell_type": "markdown",
   "id": "c7b5c259",
   "metadata": {},
   "source": [
    "# For"
   ]
  },
  {
   "cell_type": "code",
   "execution_count": null,
   "id": "8379ce91",
   "metadata": {},
   "outputs": [],
   "source": [
    "for n in valuesequence\n",
    " {code block}"
   ]
  },
  {
   "cell_type": "code",
   "execution_count": 88,
   "id": "e1ff7e1c",
   "metadata": {},
   "outputs": [
    {
     "name": "stdout",
     "output_type": "stream",
     "text": [
      "[1, 2, 3, 4]\n"
     ]
    }
   ],
   "source": [
    "list=[1,2,3,4]\n",
    "list2=[]\n",
    "for i in list:\n",
    "    list1=i\n",
    "    list2.append(list1)\n",
    "print(list2)\n"
   ]
  },
  {
   "cell_type": "code",
   "execution_count": 89,
   "id": "ccc263a6",
   "metadata": {},
   "outputs": [
    {
     "name": "stdout",
     "output_type": "stream",
     "text": [
      "new list is [1, 4, 9, 16, 25, 36, 49]\n"
     ]
    }
   ],
   "source": [
    "list=[1,2,3,4,5,6,7]\n",
    "emp=[]\n",
    "for n in list:\n",
    "    seq=n**2\n",
    "    emp.append(seq)\n",
    "print(\"new list is\",emp)"
   ]
  },
  {
   "cell_type": "code",
   "execution_count": 91,
   "id": "ced35201",
   "metadata": {},
   "outputs": [],
   "source": [
    "#while \n",
    "while condition \n",
    " statement "
   ]
  },
  {
   "cell_type": "code",
   "execution_count": 108,
   "id": "aa699dde",
   "metadata": {},
   "outputs": [
    {
     "name": "stdout",
     "output_type": "stream",
     "text": [
      "Enter number1\n",
      "Total: 1\n",
      "Enter number2\n",
      "Total: 3\n",
      "Enter number3\n",
      "Total: 6\n",
      "Enter number4\n",
      "Total: 10\n",
      "Enter number5\n",
      "Total: 15\n",
      "Enter number0\n",
      "The number is 0\n"
     ]
    }
   ],
   "source": [
    "# program to calculate the sum of numbers\n",
    "# until the user enters zero\n",
    "total = 0\n",
    "n=int(input(\"Enter number\"))\n",
    "\n",
    "while n>0:\n",
    "    total=total+n\n",
    "    print(\"Total:\",total)\n",
    "    n=int(input(\"Enter number\"))\n",
    "else:\n",
    "    print(\"The number is 0\")"
   ]
  },
  {
   "cell_type": "code",
   "execution_count": 120,
   "id": "e00d6011",
   "metadata": {},
   "outputs": [
    {
     "name": "stdout",
     "output_type": "stream",
     "text": [
      "Number45\n",
      "number70\n",
      "number23\n",
      "u can leave \n"
     ]
    }
   ],
   "source": [
    "#while_else\n",
    "n=int(input(\"Number\"))\n",
    "while n>40:\n",
    "    n=int(input(\"number\"))\n",
    "else:\n",
    "    print(\"u can leave \")\n"
   ]
  },
  {
   "cell_type": "code",
   "execution_count": 121,
   "id": "f6d0d031",
   "metadata": {},
   "outputs": [
    {
     "name": "stdout",
     "output_type": "stream",
     "text": [
      "0\n",
      "1\n",
      "2\n"
     ]
    }
   ],
   "source": [
    "#break \n",
    "for i in range(5):\n",
    "    if i == 3:\n",
    "        break\n",
    "    print(i)"
   ]
  },
  {
   "cell_type": "code",
   "execution_count": 122,
   "id": "2e2410c3",
   "metadata": {},
   "outputs": [
    {
     "name": "stdout",
     "output_type": "stream",
     "text": [
      "0\n",
      "1\n",
      "2\n",
      "4\n"
     ]
    }
   ],
   "source": [
    "#continue\n",
    "for i in range(5):\n",
    "    if i == 3:\n",
    "        continue\n",
    "    print(i)\n",
    "#Here, when i is equal to 3, the continue statement is executed. Hence, the value 3 is not printed to the output."
   ]
  },
  {
   "cell_type": "code",
   "execution_count": null,
   "id": "3f8d5663",
   "metadata": {},
   "outputs": [],
   "source": []
  }
 ],
 "metadata": {
  "kernelspec": {
   "display_name": "Python 3 (ipykernel)",
   "language": "python",
   "name": "python3"
  },
  "language_info": {
   "codemirror_mode": {
    "name": "ipython",
    "version": 3
   },
   "file_extension": ".py",
   "mimetype": "text/x-python",
   "name": "python",
   "nbconvert_exporter": "python",
   "pygments_lexer": "ipython3",
   "version": "3.10.9"
  }
 },
 "nbformat": 4,
 "nbformat_minor": 5
}
